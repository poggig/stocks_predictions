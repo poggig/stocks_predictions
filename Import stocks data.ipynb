{
 "cells": [
  {
   "cell_type": "code",
   "execution_count": 1,
   "id": "b2295efc",
   "metadata": {},
   "outputs": [],
   "source": [
    "import yfinance as yf\n",
    "import pandas as pd\n",
    "import datetime as dt"
   ]
  },
  {
   "cell_type": "code",
   "execution_count": 2,
   "id": "6130d882",
   "metadata": {},
   "outputs": [
    {
     "name": "stdout",
     "output_type": "stream",
     "text": [
      "                                Open       High        Low      Close  Volume  \\\n",
      "Date                                                                            \n",
      "2009-09-25 00:00:00+01:00  24.820520  24.820520  24.820520  24.820520       0   \n",
      "2009-09-28 00:00:00+01:00  24.820520  24.820520  24.820520  24.820520       0   \n",
      "2009-09-29 00:00:00+01:00  24.773529  24.773529  24.773529  24.773529       0   \n",
      "2009-09-30 00:00:00+01:00  24.806459  24.806459  24.806459  24.806459       0   \n",
      "2009-10-01 00:00:00+01:00  24.259439  24.259439  24.259439  24.259439       0   \n",
      "\n",
      "                           Dividends  Stock Splits  ticker  \n",
      "Date                                                        \n",
      "2009-09-25 00:00:00+01:00          0             0  IWDA.L  \n",
      "2009-09-28 00:00:00+01:00          0             0  IWDA.L  \n",
      "2009-09-29 00:00:00+01:00          0             0  IWDA.L  \n",
      "2009-09-30 00:00:00+01:00          0             0  IWDA.L  \n",
      "2009-10-01 00:00:00+01:00          0             0  IWDA.L  \n"
     ]
    }
   ],
   "source": [
    "msci_world_ucits_etf = yf.Ticker('IWDA.L')\n",
    "df = msci_world_ucits_etf.history(period='max')\n",
    "df['ticker'] = msci_world_ucits_etf.info['symbol']\n",
    "print(df.head())"
   ]
  },
  {
   "cell_type": "code",
   "execution_count": 3,
   "id": "e1dbab3c",
   "metadata": {},
   "outputs": [],
   "source": [
    "def fetch_stocks_data(list_tickers):\n",
    "    #first ticker creates the dataframe\n",
    "    ticker_object = yf.Ticker(list_tickers[0])\n",
    "    df_final = ticker_object.history(period='max')\n",
    "    df_final['ticker'] = ticker_object.info['symbol']\n",
    "    \n",
    "    #loop through the remaining tickers\n",
    "    for i in range(len(list_tickers[1:])):\n",
    "        \n",
    "        ticker_object = yf.Ticker(list_tickers[i+1])\n",
    "        df = ticker_object.history(period='max')\n",
    "        df['ticker'] = ticker_object.info['symbol']\n",
    "        df_final= pd.concat([df_final, df])\n",
    "\n",
    "    return df_final"
   ]
  },
  {
   "cell_type": "code",
   "execution_count": 4,
   "id": "3a236162",
   "metadata": {},
   "outputs": [],
   "source": [
    "tickers = ['GOOG', 'IWDA.L']"
   ]
  },
  {
   "cell_type": "code",
   "execution_count": 5,
   "id": "e84f84d6",
   "metadata": {},
   "outputs": [],
   "source": [
    "df_total = fetch_stocks_data(tickers)"
   ]
  },
  {
   "cell_type": "code",
   "execution_count": 6,
   "id": "d508538d",
   "metadata": {},
   "outputs": [],
   "source": [
    "df_total.to_csv('historical_data_'+str(dt.date.today())+'.csv')"
   ]
  },
  {
   "cell_type": "code",
   "execution_count": 7,
   "id": "b7e1e0fb",
   "metadata": {},
   "outputs": [
    {
     "name": "stdout",
     "output_type": "stream",
     "text": [
      "2022-10-08\n"
     ]
    }
   ],
   "source": [
    "print(dt.date.today())"
   ]
  },
  {
   "cell_type": "code",
   "execution_count": null,
   "id": "8c2ed053",
   "metadata": {},
   "outputs": [],
   "source": []
  }
 ],
 "metadata": {
  "kernelspec": {
   "display_name": "Python 3 (ipykernel)",
   "language": "python",
   "name": "python3"
  },
  "language_info": {
   "codemirror_mode": {
    "name": "ipython",
    "version": 3
   },
   "file_extension": ".py",
   "mimetype": "text/x-python",
   "name": "python",
   "nbconvert_exporter": "python",
   "pygments_lexer": "ipython3",
   "version": "3.9.12"
  }
 },
 "nbformat": 4,
 "nbformat_minor": 5
}
